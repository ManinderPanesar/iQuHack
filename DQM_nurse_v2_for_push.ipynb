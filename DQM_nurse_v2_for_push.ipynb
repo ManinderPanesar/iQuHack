{
 "cells": [
  {
   "cell_type": "code",
   "execution_count": 11,
   "metadata": {},
   "outputs": [
    {
     "name": "stdout",
     "output_type": "stream",
     "text": [
      "Solution energy:  0.0\n",
      "0 2 0 1 0 2 1 \n",
      "2 1 2 2 1 3 0 \n",
      "1 0 3 0 2 1 2 \n",
      "Solution validity:  True\n"
     ]
    }
   ],
   "source": [
    "from dimod import DiscreteQuadraticModel\n",
    "from dwave.system import LeapHybridDQMSampler, LeapHybridSampler\n",
    "import networkx as nx\n",
    "from copy import deepcopy\n",
    "\n",
    "token = 'DEV-22b61bae4e0a57f9322c49cb3206d3dddad69d7a'\n",
    "\n",
    "scheduleDays = 7\n",
    "numShifts = 3\n",
    "numNurses = 4\n",
    "\n",
    "multipleShiftsCost = 10\n",
    "\n",
    "### Helper programs\n",
    "# returns composite index given (shift, day)\n",
    "def Get_Index(shift, day):\n",
    "    return shift * scheduleDays + day\n",
    "\n",
    "\n",
    "# Inverse of get_index - given a composite index in a 1D list, return the\n",
    "# nurse_index and day_index\n",
    "def Get_Shift_and_Day(index):\n",
    "    shift, day = divmod(index, scheduleDays)\n",
    "    return shift, day\n",
    "\n",
    "graphSize = numShifts*scheduleDays\n",
    "nurses = range(numNurses)\n",
    "shiftList = list(range(numShifts))\n",
    "\n",
    "dqm = DiscreteQuadraticModel()\n",
    "\n",
    "# Add nodes with number of options each can have\n",
    "for node in range(graphSize):\n",
    "    dqm.add_variable(numNurses, label = node)\n",
    "\n",
    "# Make list of tuple edges\n",
    "for node in range(graphSize):\n",
    "    isDayAfter = False\n",
    "    otherShifts = deepcopy(shiftList)\n",
    "    \n",
    "    shift, day = Get_Shift_and_Day(node)\n",
    "    otherShifts.remove(shift)\n",
    "    dayAfter = day + 1\n",
    "\n",
    "    if day + 1 < scheduleDays:\n",
    "        isDayAfter = True\n",
    "        \n",
    "    # Don't schedule the same person for multiple shifts\n",
    "    for ii in otherShifts:\n",
    "        index = Get_Index(ii, day)\n",
    "        dqm.set_quadratic(node, index, {(n, n): multipleShiftsCost for n in nurses})\n",
    "            \n",
    "    # Don't change a nurse's schedule from 1 day to another\n",
    "       \n",
    "sampler = LeapHybridDQMSampler(endpoint='https://cloud.dwavesys.com/sapi/', token=token, solver={ 'name': 'hybrid_discrete_quadratic_model_version1'})\n",
    "\n",
    "sampleset = sampler.sample_dqm(dqm)\n",
    "sample = sampleset.first.sample\n",
    "energy = sampleset.first.energy\n",
    "valid = True\n",
    "'''\n",
    "for thisDay in range(scheduleDays):\n",
    "    \n",
    "    if sample[i] == sample[j]:\n",
    "        valid = False\n",
    "        break\n",
    "'''\n",
    "# print(\"Solution: \", sample)\n",
    "print(\"Solution energy: \", energy)\n",
    "\n",
    "for ii in range(numShifts):\n",
    "    str_row = \"\"\n",
    "    for jj in range(scheduleDays):\n",
    "        thisIndex = Get_Index(ii, jj)\n",
    "        str_row += str(sample[thisIndex]) + ' '\n",
    "    print(str_row)\n",
    "\n",
    "print(\"Solution validity: \", valid)\n"
   ]
  },
  {
   "cell_type": "code",
   "execution_count": 8,
   "metadata": {},
   "outputs": [
    {
     "name": "stdout",
     "output_type": "stream",
     "text": [
      "21\n"
     ]
    }
   ],
   "source": [
    "print(len(sample))"
   ]
  },
  {
   "cell_type": "code",
   "execution_count": null,
   "metadata": {},
   "outputs": [],
   "source": []
  }
 ],
 "metadata": {
  "kernelspec": {
   "display_name": "Python 3",
   "language": "python",
   "name": "python3"
  },
  "language_info": {
   "codemirror_mode": {
    "name": "ipython",
    "version": 3
   },
   "file_extension": ".py",
   "mimetype": "text/x-python",
   "name": "python",
   "nbconvert_exporter": "python",
   "pygments_lexer": "ipython3",
   "version": "3.7.6"
  }
 },
 "nbformat": 4,
 "nbformat_minor": 4
}
